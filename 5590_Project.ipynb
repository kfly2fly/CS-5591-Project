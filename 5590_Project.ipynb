{
  "nbformat": 4,
  "nbformat_minor": 0,
  "metadata": {
    "colab": {
      "name": "5590 Project.ipynb",
      "provenance": []
    },
    "kernelspec": {
      "name": "python3",
      "display_name": "Python 3"
    },
    "language_info": {
      "name": "python"
    },
    "accelerator": "TPU"
  },
  "cells": [
    {
      "cell_type": "code",
      "execution_count": 5,
      "metadata": {
        "id": "nYMhvAhQuzez"
      },
      "outputs": [],
      "source": [
        "# Packages for training the model and working with the dataset.\n",
        "import tensorflow as tf\n",
        "import matplotlib.pyplot as plt\n",
        "import numpy as np\n",
        "import json\n",
        "# Utility/helper packages.\n",
        "import platform\n",
        "import time\n",
        "import pathlib\n",
        "import os"
      ]
    },
    {
      "cell_type": "code",
      "source": [
        "print('Python version:', platform.python_version())\n",
        "print('Tensorflow version:', tf.__version__)\n",
        "print('Keras version:', tf.keras.__version__)"
      ],
      "metadata": {
        "colab": {
          "base_uri": "https://localhost:8080/"
        },
        "id": "pL0gBaOawlsm",
        "outputId": "ffa2f7f0-1c52-437d-a00f-0aa4276b1e5a"
      },
      "execution_count": 6,
      "outputs": [
        {
          "output_type": "stream",
          "name": "stdout",
          "text": [
            "Python version: 3.7.13\n",
            "Tensorflow version: 2.8.0\n",
            "Keras version: 2.8.0\n"
          ]
        }
      ]
    },
    {
      "cell_type": "code",
      "source": [
        "dataset_raw = []"
      ],
      "metadata": {
        "id": "59w9gQaWzS-x"
      },
      "execution_count": 7,
      "outputs": []
    },
    {
      "cell_type": "code",
      "source": [
        "with open('quotes.json') as dataset_file:\n",
        "            json_data_dict = json.load(dataset_file)\n",
        "            # dict_keys = [key for key in json_data_dict[0]]\n",
        "            # dict_keys.sort()\n",
        "            dataset_raw += json_data_dict"
      ],
      "metadata": {
        "id": "kx_huS67zEcm"
      },
      "execution_count": 8,
      "outputs": []
    },
    {
      "cell_type": "code",
      "source": [
        "def validate_text_field(quote):\n",
        "    required_keys = ['text']\n",
        "    \n",
        "    if not quote:\n",
        "        return False\n",
        "    \n",
        "    for required_key in required_keys:\n",
        "        if not quote[required_key]:\n",
        "            return False\n",
        "        \n",
        "        # if type(quote[required_key]) == list and len(quote[required_key]) == 0:\n",
        "        #     return False\n",
        "    \n",
        "    return True"
      ],
      "metadata": {
        "id": "m_0DlbVt2BpX"
      },
      "execution_count": 9,
      "outputs": []
    },
    {
      "cell_type": "code",
      "source": [
        "dataset_validated = [quote for quote in dataset_raw if validate_text_field(quote)]\n",
        "print('Dataset size BEFORE validation', len(dataset_raw))\n",
        "print('Dataset size AFTER validation', len(dataset_validated))\n",
        "print('Number of incomplete quotes', len(dataset_raw) - len(dataset_validated))"
      ],
      "metadata": {
        "colab": {
          "base_uri": "https://localhost:8080/"
        },
        "id": "hECNaqAa2cE8",
        "outputId": "3c4526f8-4ca9-4504-e172-260c716c61cf"
      },
      "execution_count": 10,
      "outputs": [
        {
          "output_type": "stream",
          "name": "stdout",
          "text": [
            "Dataset size BEFORE validation 1621\n",
            "Dataset size AFTER validation 1621\n",
            "Number of incomplete recipes 0\n"
          ]
        }
      ]
    },
    {
      "cell_type": "code",
      "source": [
        "STOP_WORD_QUOTE = '💭 '\n",
        "STOP_WORD_AUTHOR = '\\n👨\\n\\n'"
      ],
      "metadata": {
        "id": "obAC2Roz4j3i"
      },
      "execution_count": 11,
      "outputs": []
    },
    {
      "cell_type": "code",
      "source": [
        "def quote_to_string(quote):\n",
        "\n",
        "    text = quote['text']\n",
        "    author = quote['author']\n",
        "    \n",
        "    return f'{STOP_WORD_QUOTE}{text}\\n{STOP_WORD_AUTHOR}{author}'"
      ],
      "metadata": {
        "id": "W-M3CluM5H9v"
      },
      "execution_count": 12,
      "outputs": []
    },
    {
      "cell_type": "code",
      "source": [
        "dataset_stringified = [quote_to_string(quote) for quote in dataset_validated]\n",
        "print('Stringified dataset size: ', len(dataset_stringified))"
      ],
      "metadata": {
        "colab": {
          "base_uri": "https://localhost:8080/"
        },
        "id": "c7vWTEkZ5vi-",
        "outputId": "4ffbe76d-1962-43f7-fd14-1a4f2b9c2504"
      },
      "execution_count": 13,
      "outputs": [
        {
          "output_type": "stream",
          "name": "stdout",
          "text": [
            "Stringified dataset size:  1621\n"
          ]
        }
      ]
    },
    {
      "cell_type": "code",
      "source": [
        "for quote_index, quote_string  in enumerate(dataset_stringified[500:503]):\n",
        "    print('Quote #{}\\n---------'.format(quote_index + 1))\n",
        "    print(quote_string)\n",
        "    print('\\n')"
      ],
      "metadata": {
        "colab": {
          "base_uri": "https://localhost:8080/"
        },
        "id": "71wfUrT059Il",
        "outputId": "2128b51c-3144-46ef-d2b9-9f8cb1c3a4de"
      },
      "execution_count": 14,
      "outputs": [
        {
          "output_type": "stream",
          "name": "stdout",
          "text": [
            "Quote #1\n",
            "---------\n",
            "💭 Gratitude is riches. Complaint is poverty.\n",
            "\n",
            "👨\n",
            "\n",
            "Doris Day\n",
            "\n",
            "\n",
            "Quote #2\n",
            "---------\n",
            "💭 Until you make peace with who you are, you will never be content with what you have.\n",
            "\n",
            "👨\n",
            "\n",
            "Doris Mortman\n",
            "\n",
            "\n",
            "Quote #3\n",
            "---------\n",
            "💭 Until you make peace with who you are, you'll never be content with what you have.\n",
            "\n",
            "👨\n",
            "\n",
            "Doris Mortman\n",
            "\n",
            "\n"
          ]
        }
      ]
    },
    {
      "cell_type": "code",
      "source": [
        "quote_lengths = []\n",
        "for quote_text in dataset_stringified:\n",
        "    quote_lengths.append(len(quote_text))\n",
        "plt.hist(quote_lengths, bins=50)\n",
        "plt.show()"
      ],
      "metadata": {
        "colab": {
          "base_uri": "https://localhost:8080/",
          "height": 265
        },
        "id": "QVW7Yyt_6cWG",
        "outputId": "efd121a0-9874-44a3-f918-36d190d8838b"
      },
      "execution_count": 15,
      "outputs": [
        {
          "output_type": "display_data",
          "data": {
            "text/plain": [
              "<Figure size 432x288 with 1 Axes>"
            ],
            "image/png": "[encoded data removed]"
          },
          "metadata": {
            "needs_background": "light"
          }
        }
      ]
    },
    {
      "cell_type": "code",
      "source": [
        "max(quote_lengths)"
      ],
      "metadata": {
        "colab": {
          "base_uri": "https://localhost:8080/"
        },
        "id": "M4Z81-Uk60X5",
        "outputId": "f8d616fb-b276-4846-a4b7-93f3ceab1282"
      },
      "execution_count": 16,
      "outputs": [
        {
          "output_type": "execute_result",
          "data": {
            "text/plain": [
              "371"
            ]
          },
          "metadata": {},
          "execution_count": 16
        }
      ]
    },
    {
      "cell_type": "code",
      "source": [
        "MAX_QUOTE_LENGTH = 250"
      ],
      "metadata": {
        "id": "_sYpRbHZ87-U"
      },
      "execution_count": 17,
      "outputs": []
    },
    {
      "cell_type": "code",
      "source": [
        "def filter_quotes_by_length(quote_test):\n",
        "    return len(quote_test) <= MAX_QUOTE_LENGTH \n",
        "\n",
        "dataset_filtered = [quote_text for quote_text in dataset_stringified if filter_quotes_by_length(quote_text)]\n",
        "print('Dataset size BEFORE filtering: ', len(dataset_stringified))\n",
        "print('Dataset size AFTER filtering: ', len(dataset_filtered))\n",
        "print('Number of eliminated quotes: ', len(dataset_stringified) - len(dataset_filtered))"
      ],
      "metadata": {
        "colab": {
          "base_uri": "https://localhost:8080/"
        },
        "id": "5ccLv1pT7Hgm",
        "outputId": "00aee00c-7dd0-4b1b-bbf7-a2515bc906dc"
      },
      "execution_count": 18,
      "outputs": [
        {
          "output_type": "stream",
          "name": "stdout",
          "text": [
            "Dataset size BEFORE filtering:  1621\n",
            "Dataset size AFTER filtering:  1620\n",
            "Number of eliminated recipes:  1\n"
          ]
        }
      ]
    },
    {
      "cell_type": "code",
      "source": [
        "TOTAL_QUOTES_NUM = len(dataset_filtered)\n",
        "TOTAL_QUOTES_NUM"
      ],
      "metadata": {
        "colab": {
          "base_uri": "https://localhost:8080/"
        },
        "id": "Uvay65vr65KH",
        "outputId": "e3c81ebe-586b-4342-e3d8-b8a0c89f552b"
      },
      "execution_count": 19,
      "outputs": [
        {
          "output_type": "execute_result",
          "data": {
            "text/plain": [
              "1620"
            ]
          },
          "metadata": {},
          "execution_count": 19
        }
      ]
    },
    {
      "cell_type": "markdown",
      "source": [
        "## Creating Vocabulary"
      ],
      "metadata": {
        "id": "U61_Qw1B7ms9"
      }
    },
    {
      "cell_type": "code",
      "source": [
        "STOP_SIGN = '␣'\n",
        "tokenizer = tf.keras.preprocessing.text.Tokenizer(\n",
        "    char_level=True,\n",
        "    filters='',\n",
        "    lower=False,\n",
        "    split=''\n",
        ")\n",
        "# Stop word is not a part of quotes, but tokenizer must know about it as well.\n",
        "tokenizer.fit_on_texts([STOP_SIGN])\n",
        "tokenizer.fit_on_texts(dataset_filtered)\n",
        "tokenizer.get_config()"
      ],
      "metadata": {
        "colab": {
          "base_uri": "https://localhost:8080/"
        },
        "id": "UaM1edJw7mMh",
        "outputId": "f5b81c82-91c0-4cca-af6a-226d1b812d54"
      },
      "execution_count": 20,
      "outputs": [
        {
          "output_type": "execute_result",
          "data": {
            "text/plain": [
              "{'char_level': True,\n",
              " 'document_count': 1621,\n",
              " 'filters': '',\n",
              " 'index_docs': '{\"1\": 1620, \"71\": 1, \"11\": 1563, \"8\": 1579, \"10\": 1620, \"24\": 1620, \"14\": 1359, \"26\": 891, \"17\": 1227, \"20\": 1165, \"25\": 1620, \"5\": 1600, \"16\": 1277, \"33\": 343, \"4\": 1606, \"7\": 1599, \"21\": 1589, \"6\": 1604, \"12\": 1491, \"19\": 1175, \"9\": 1584, \"34\": 272, \"13\": 1441, \"3\": 1615, \"23\": 1008, \"2\": 1618, \"27\": 698, \"30\": 314, \"44\": 163, \"15\": 1259, \"22\": 1023, \"18\": 1222, \"28\": 679, \"49\": 115, \"39\": 228, \"47\": 144, \"31\": 356, \"38\": 175, \"29\": 548, \"51\": 108, \"36\": 233, \"32\": 368, \"46\": 150, \"52\": 100, \"37\": 237, \"53\": 94, \"50\": 119, \"55\": 68, \"48\": 124, \"41\": 219, \"43\": 192, \"35\": 242, \"40\": 222, \"42\": 212, \"56\": 54, \"58\": 35, \"54\": 87, \"66\": 2, \"45\": 165, \"59\": 23, \"62\": 10, \"68\": 1, \"67\": 2, \"63\": 2, \"72\": 1, \"57\": 37, \"61\": 12, \"73\": 1, \"65\": 3, \"64\": 4, \"60\": 10, \"74\": 1, \"69\": 2, \"70\": 2}',\n",
              " 'index_word': '{\"1\": \" \", \"2\": \"e\", \"3\": \"o\", \"4\": \"t\", \"5\": \"a\", \"6\": \"n\", \"7\": \"i\", \"8\": \"s\", \"9\": \"r\", \"10\": \"\\\\n\", \"11\": \"h\", \"12\": \"l\", \"13\": \"u\", \"14\": \"d\", \"15\": \"y\", \"16\": \"c\", \"17\": \"m\", \"18\": \"w\", \"19\": \"f\", \"20\": \"g\", \"21\": \".\", \"22\": \"p\", \"23\": \"b\", \"24\": \"\\\\ud83d\\\\udcad\", \"25\": \"\\\\ud83d\\\\udc68\", \"26\": \"v\", \"27\": \",\", \"28\": \"k\", \"29\": \"T\", \"30\": \"I\", \"31\": \"W\", \"32\": \"B\", \"33\": \"A\", \"34\": \"L\", \"35\": \"S\", \"36\": \"C\", \"37\": \"E\", \"38\": \"\\'\", \"39\": \"M\", \"40\": \"D\", \"41\": \"R\", \"42\": \"H\", \"43\": \"P\", \"44\": \"x\", \"45\": \"J\", \"46\": \"N\", \"47\": \"G\", \"48\": \"z\", \"49\": \"Y\", \"50\": \"F\", \"51\": \";\", \"52\": \"j\", \"53\": \"O\", \"54\": \"K\", \"55\": \"q\", \"56\": \"-\", \"57\": \"V\", \"58\": \":\", \"59\": \"?\", \"60\": \"Z\", \"61\": \"U\", \"62\": \"!\", \"63\": \"0\", \"64\": \"\\\\u2019\", \"65\": \"Q\", \"66\": \"\\\\u00e9\", \"67\": \"1\", \"68\": \"%\", \"69\": \"\\\\u00f8\", \"70\": \"\\\\u2014\", \"71\": \"\\\\u2423\", \"72\": \"9\", \"73\": \"\\\\u00f6\", \"74\": \"X\"}',\n",
              " 'lower': False,\n",
              " 'num_words': None,\n",
              " 'oov_token': None,\n",
              " 'split': '',\n",
              " 'word_counts': '{\"\\\\u2423\": 1, \"\\\\ud83d\\\\udcad\": 1620, \" \": 26282, \"A\": 373, \"h\": 6240, \"o\": 10501, \"u\": 4292, \"s\": 7558, \"e\": 14975, \"d\": 3541, \"i\": 8489, \"v\": 1411, \"a\": 9099, \"g\": 2448, \"n\": 8917, \"t\": 10264, \"l\": 5185, \"f\": 2485, \"c\": 2930, \".\": 2077, \"\\\\n\": 6480, \"\\\\ud83d\\\\udc68\": 1620, \"b\": 1747, \"r\": 7055, \"m\": 2693, \"L\": 285, \"I\": 428, \"p\": 2017, \"y\": 3057, \",\": 1008, \"x\": 179, \"w\": 2643, \"k\": 987, \"Y\": 127, \"M\": 235, \"G\": 148, \"W\": 399, \"\\'\": 240, \"T\": 635, \"C\": 247, \";\": 114, \"B\": 380, \"N\": 159, \"j\": 109, \"E\": 245, \"O\": 96, \"F\": 121, \"q\": 74, \"z\": 132, \"R\": 223, \"P\": 205, \"S\": 267, \"D\": 232, \"H\": 223, \"-\": 58, \":\": 36, \"K\": 91, \"\\\\u00e9\": 2, \"J\": 168, \"?\": 27, \"!\": 10, \"1\": 2, \"0\": 6, \"%\": 2, \"9\": 1, \"V\": 37, \"U\": 13, \"\\\\u00f6\": 1, \"Q\": 3, \"\\\\u2019\": 4, \"Z\": 15, \"X\": 1, \"\\\\u00f8\": 2, \"\\\\u2014\": 2}',\n",
              " 'word_docs': '{\"\\\\u2423\": 1, \"h\": 1563, \"s\": 1579, \"\\\\n\": 1620, \"\\\\ud83d\\\\udcad\": 1620, \"d\": 1359, \"v\": 891, \"m\": 1227, \" \": 1620, \"g\": 1165, \"\\\\ud83d\\\\udc68\": 1620, \"a\": 1600, \"c\": 1277, \"A\": 343, \"t\": 1606, \"i\": 1599, \".\": 1589, \"n\": 1604, \"l\": 1491, \"f\": 1175, \"r\": 1584, \"L\": 272, \"u\": 1441, \"o\": 1615, \"b\": 1008, \"e\": 1618, \",\": 698, \"I\": 314, \"x\": 163, \"y\": 1259, \"p\": 1023, \"w\": 1222, \"k\": 679, \"Y\": 115, \"M\": 228, \"G\": 144, \"W\": 356, \"\\'\": 175, \"T\": 548, \";\": 108, \"C\": 233, \"B\": 368, \"N\": 150, \"j\": 100, \"E\": 237, \"O\": 94, \"F\": 119, \"q\": 68, \"z\": 124, \"R\": 219, \"P\": 192, \"S\": 242, \"D\": 222, \"H\": 212, \"-\": 54, \":\": 35, \"K\": 87, \"\\\\u00e9\": 2, \"J\": 165, \"?\": 23, \"!\": 10, \"%\": 1, \"1\": 2, \"0\": 2, \"9\": 1, \"V\": 37, \"U\": 12, \"\\\\u00f6\": 1, \"Q\": 3, \"\\\\u2019\": 4, \"Z\": 10, \"X\": 1, \"\\\\u00f8\": 2, \"\\\\u2014\": 2}',\n",
              " 'word_index': '{\" \": 1, \"e\": 2, \"o\": 3, \"t\": 4, \"a\": 5, \"n\": 6, \"i\": 7, \"s\": 8, \"r\": 9, \"\\\\n\": 10, \"h\": 11, \"l\": 12, \"u\": 13, \"d\": 14, \"y\": 15, \"c\": 16, \"m\": 17, \"w\": 18, \"f\": 19, \"g\": 20, \".\": 21, \"p\": 22, \"b\": 23, \"\\\\ud83d\\\\udcad\": 24, \"\\\\ud83d\\\\udc68\": 25, \"v\": 26, \",\": 27, \"k\": 28, \"T\": 29, \"I\": 30, \"W\": 31, \"B\": 32, \"A\": 33, \"L\": 34, \"S\": 35, \"C\": 36, \"E\": 37, \"\\'\": 38, \"M\": 39, \"D\": 40, \"R\": 41, \"H\": 42, \"P\": 43, \"x\": 44, \"J\": 45, \"N\": 46, \"G\": 47, \"z\": 48, \"Y\": 49, \"F\": 50, \";\": 51, \"j\": 52, \"O\": 53, \"K\": 54, \"q\": 55, \"-\": 56, \"V\": 57, \":\": 58, \"?\": 59, \"Z\": 60, \"U\": 61, \"!\": 62, \"0\": 63, \"\\\\u2019\": 64, \"Q\": 65, \"\\\\u00e9\": 66, \"1\": 67, \"%\": 68, \"\\\\u00f8\": 69, \"\\\\u2014\": 70, \"\\\\u2423\": 71, \"9\": 72, \"\\\\u00f6\": 73, \"X\": 74}'}"
            ]
          },
          "metadata": {},
          "execution_count": 20
        }
      ]
    },
    {
      "cell_type": "code",
      "source": [
        "VOCABULARY_SIZE = len(tokenizer.word_counts) + 1\n",
        "print('VOCABULARY_SIZE: ', VOCABULARY_SIZE)"
      ],
      "metadata": {
        "colab": {
          "base_uri": "https://localhost:8080/"
        },
        "id": "-v4i6NsT73cz",
        "outputId": "afe950ff-43f0-4469-8759-dca4d8ab138f"
      },
      "execution_count": 21,
      "outputs": [
        {
          "output_type": "stream",
          "name": "stdout",
          "text": [
            "VOCABULARY_SIZE:  75\n"
          ]
        }
      ]
    },
    {
      "cell_type": "code",
      "source": [
        "array_vocabulary = tokenizer.sequences_to_texts([[word_index] for word_index in range(VOCABULARY_SIZE)])\n",
        "print([char for char in array_vocabulary])"
      ],
      "metadata": {
        "colab": {
          "base_uri": "https://localhost:8080/"
        },
        "id": "fwY_fIJF8EHt",
        "outputId": "875353f6-f858-4a3c-e020-e69af2dc6bcf"
      },
      "execution_count": 22,
      "outputs": [
        {
          "output_type": "stream",
          "name": "stdout",
          "text": [
            "['', ' ', 'e', 'o', 't', 'a', 'n', 'i', 's', 'r', '\\n', 'h', 'l', 'u', 'd', 'y', 'c', 'm', 'w', 'f', 'g', '.', 'p', 'b', '💭', '👨', 'v', ',', 'k', 'T', 'I', 'W', 'B', 'A', 'L', 'S', 'C', 'E', \"'\", 'M', 'D', 'R', 'H', 'P', 'x', 'J', 'N', 'G', 'z', 'Y', 'F', ';', 'j', 'O', 'K', 'q', '-', 'V', ':', '?', 'Z', 'U', '!', '0', '’', 'Q', 'é', '1', '%', 'ø', '—', '␣', '9', 'ö', 'X']\n"
          ]
        }
      ]
    },
    {
      "cell_type": "code",
      "source": [
        "dataset_vectorized = tokenizer.texts_to_sequences(dataset_filtered)\n",
        "print('Vectorized dataset size:', len(dataset_vectorized))"
      ],
      "metadata": {
        "colab": {
          "base_uri": "https://localhost:8080/"
        },
        "id": "3ZPpxXVe8Uok",
        "outputId": "a19c2e3a-7087-4255-9e85-261c6361bebb"
      },
      "execution_count": 23,
      "outputs": [
        {
          "output_type": "stream",
          "name": "stdout",
          "text": [
            "Vectorized dataset size: 1620\n"
          ]
        }
      ]
    },
    {
      "cell_type": "code",
      "source": [
        "print(dataset_vectorized[0][:10], '...')"
      ],
      "metadata": {
        "colab": {
          "base_uri": "https://localhost:8080/"
        },
        "id": "CW3jlXEg8gHn",
        "outputId": "cfaf30c0-b5d4-437d-bfd2-49b8a62acff5"
      },
      "execution_count": 24,
      "outputs": [
        {
          "output_type": "stream",
          "name": "stdout",
          "text": [
            "[24, 1, 33, 1, 11, 3, 13, 8, 2, 1] ...\n"
          ]
        }
      ]
    },
    {
      "cell_type": "code",
      "source": [
        "def quote_sequence_to_string(quote_sequence):\n",
        "    quote_stringified = tokenizer.sequences_to_texts([quote_sequence])[0]\n",
        "    print(quote_stringified)\n",
        "quote_sequence_to_string(dataset_vectorized[0])"
      ],
      "metadata": {
        "colab": {
          "base_uri": "https://localhost:8080/"
        },
        "id": "4mkod_nU8jXv",
        "outputId": "ecad9821-32a8-4a7f-9a1e-42e3c86a1a1d"
      },
      "execution_count": 25,
      "outputs": [
        {
          "output_type": "stream",
          "name": "stdout",
          "text": [
            "💭   A   h o u s e   d i v i d e d   a g a i n s t   i t s e l f   c a n n o t   s t a n d . \n",
            " \n",
            " 👨 \n",
            " \n",
            " A b r a h a m   L i n c o l n\n"
          ]
        }
      ]
    },
    {
      "cell_type": "code",
      "source": [
        "for quote_index, quote in enumerate(dataset_vectorized[:10]):\n",
        "    print('Quote #{} length: {}'.format(quote_index + 1, len(quote)))"
      ],
      "metadata": {
        "colab": {
          "base_uri": "https://localhost:8080/"
        },
        "id": "mEEd-lo_8sC_",
        "outputId": "e9721956-6365-4def-e6cf-d9bbc1270e9a"
      },
      "execution_count": 26,
      "outputs": [
        {
          "output_type": "stream",
          "name": "stdout",
          "text": [
            "Recipe #1 length: 66\n",
            "Recipe #2 length: 72\n",
            "Recipe #3 length: 71\n",
            "Recipe #4 length: 94\n",
            "Recipe #5 length: 86\n",
            "Recipe #6 length: 86\n",
            "Recipe #7 length: 111\n",
            "Recipe #8 length: 124\n",
            "Recipe #9 length: 94\n",
            "Recipe #10 length: 139\n"
          ]
        }
      ]
    },
    {
      "cell_type": "code",
      "source": [
        "dataset_vectorized_padded_without_stops = tf.keras.preprocessing.sequence.pad_sequences(\n",
        "    dataset_vectorized,\n",
        "    padding='post',\n",
        "    truncating='post',\n",
        "    # We use -1 here and +1 in the next step to make sure\n",
        "    # that all quotes will have at least 1 stops sign at the end,\n",
        "    # since each sequence will be shifted and truncated afterwards\n",
        "    # (to generate X and Y sequences).\n",
        "    maxlen=MAX_QUOTE_LENGTH-1,\n",
        "    value=tokenizer.texts_to_sequences([STOP_SIGN])[0]\n",
        ")\n",
        "dataset_vectorized_padded = tf.keras.preprocessing.sequence.pad_sequences(\n",
        "    dataset_vectorized_padded_without_stops,\n",
        "    padding='post',\n",
        "    truncating='post',\n",
        "    maxlen=MAX_QUOTE_LENGTH+1,\n",
        "    value=tokenizer.texts_to_sequences([STOP_SIGN])[0]\n",
        ")\n",
        "for quote_index, quote in enumerate(dataset_vectorized_padded[:10]):\n",
        "    print('Quote #{} length: {}'.format(quote_index, len(quote)))"
      ],
      "metadata": {
        "colab": {
          "base_uri": "https://localhost:8080/"
        },
        "id": "29n5lQ7K82pB",
        "outputId": "11ea731c-fa0f-482b-fc78-e9d0db5556b7"
      },
      "execution_count": 27,
      "outputs": [
        {
          "output_type": "stream",
          "name": "stdout",
          "text": [
            "Quote #0 length: 251\n",
            "Quote #1 length: 251\n",
            "Quote #2 length: 251\n",
            "Quote #3 length: 251\n",
            "Quote #4 length: 251\n",
            "Quote #5 length: 251\n",
            "Quote #6 length: 251\n",
            "Quote #7 length: 251\n",
            "Quote #8 length: 251\n",
            "Quote #9 length: 251\n"
          ]
        }
      ]
    },
    {
      "cell_type": "code",
      "source": [
        "quote_sequence_to_string(dataset_vectorized_padded[0])"
      ],
      "metadata": {
        "colab": {
          "base_uri": "https://localhost:8080/"
        },
        "id": "RUTNbheB9Vgf",
        "outputId": "b9dbd9c5-49dc-4c0b-b9df-03de96a2409e"
      },
      "execution_count": 28,
      "outputs": [
        {
          "output_type": "stream",
          "name": "stdout",
          "text": [
            "💭   A   h o u s e   d i v i d e d   a g a i n s t   i t s e l f   c a n n o t   s t a n d . \n",
            " \n",
            " 👨 \n",
            " \n",
            " A b r a h a m   L i n c o l n ␣ ␣ ␣ ␣ ␣ ␣ ␣ ␣ ␣ ␣ ␣ ␣ ␣ ␣ ␣ ␣ ␣ ␣ ␣ ␣ ␣ ␣ ␣ ␣ ␣ ␣ ␣ ␣ ␣ ␣ ␣ ␣ ␣ ␣ ␣ ␣ ␣ ␣ ␣ ␣ ␣ ␣ ␣ ␣ ␣ ␣ ␣ ␣ ␣ ␣ ␣ ␣ ␣ ␣ ␣ ␣ ␣ ␣ ␣ ␣ ␣ ␣ ␣ ␣ ␣ ␣ ␣ ␣ ␣ ␣ ␣ ␣ ␣ ␣ ␣ ␣ ␣ ␣ ␣ ␣ ␣ ␣ ␣ ␣ ␣ ␣ ␣ ␣ ␣ ␣ ␣ ␣ ␣ ␣ ␣ ␣ ␣ ␣ ␣ ␣ ␣ ␣ ␣ ␣ ␣ ␣ ␣ ␣ ␣ ␣ ␣ ␣ ␣ ␣ ␣ ␣ ␣ ␣ ␣ ␣ ␣ ␣ ␣ ␣ ␣ ␣ ␣ ␣ ␣ ␣ ␣ ␣ ␣ ␣ ␣ ␣ ␣ ␣ ␣ ␣ ␣ ␣ ␣ ␣ ␣ ␣ ␣ ␣ ␣ ␣ ␣ ␣ ␣ ␣ ␣ ␣ ␣ ␣ ␣ ␣ ␣ ␣ ␣ ␣ ␣ ␣ ␣ ␣ ␣ ␣ ␣ ␣ ␣ ␣ ␣ ␣ ␣ ␣ ␣ ␣ ␣ ␣ ␣ ␣ ␣\n"
          ]
        }
      ]
    },
    {
      "cell_type": "markdown",
      "source": [
        "## Create TensorFlow dataset"
      ],
      "metadata": {
        "id": "Pp65_FfW9_f7"
      }
    },
    {
      "cell_type": "code",
      "source": [
        "dataset = tf.data.Dataset.from_tensor_slices(dataset_vectorized_padded)\n",
        "print(dataset)"
      ],
      "metadata": {
        "colab": {
          "base_uri": "https://localhost:8080/"
        },
        "id": "WlPq8A2U9dJ7",
        "outputId": "1e4c28ac-5523-403b-d679-318e778e96cd"
      },
      "execution_count": 29,
      "outputs": [
        {
          "output_type": "stream",
          "name": "stdout",
          "text": [
            "<TensorSliceDataset element_spec=TensorSpec(shape=(251,), dtype=tf.int32, name=None)>\n"
          ]
        }
      ]
    },
    {
      "cell_type": "code",
      "source": [
        "for quote in dataset.take(1):\n",
        "    print('Raw quote:\\n', quote.numpy(), '\\n\\n\\n')\n",
        "    print('Stringified quote:\\n')\n",
        "    quote_sequence_to_string(quote.numpy())"
      ],
      "metadata": {
        "colab": {
          "base_uri": "https://localhost:8080/"
        },
        "id": "6T6zM9Y1-CmI",
        "outputId": "951e6e2d-2d0e-4df9-8acf-b84d7f67ebb0"
      },
      "execution_count": 30,
      "outputs": [
        {
          "output_type": "stream",
          "name": "stdout",
          "text": [
            "Raw recipe:\n",
            " [24  1 33  1 11  3 13  8  2  1 14  7 26  7 14  2 14  1  5 20  5  7  6  8\n",
            "  4  1  7  4  8  2 12 19  1 16  5  6  6  3  4  1  8  4  5  6 14 21 10 10\n",
            " 25 10 10 33 23  9  5 11  5 17  1 34  7  6 16  3 12  6 71 71 71 71 71 71\n",
            " 71 71 71 71 71 71 71 71 71 71 71 71 71 71 71 71 71 71 71 71 71 71 71 71\n",
            " 71 71 71 71 71 71 71 71 71 71 71 71 71 71 71 71 71 71 71 71 71 71 71 71\n",
            " 71 71 71 71 71 71 71 71 71 71 71 71 71 71 71 71 71 71 71 71 71 71 71 71\n",
            " 71 71 71 71 71 71 71 71 71 71 71 71 71 71 71 71 71 71 71 71 71 71 71 71\n",
            " 71 71 71 71 71 71 71 71 71 71 71 71 71 71 71 71 71 71 71 71 71 71 71 71\n",
            " 71 71 71 71 71 71 71 71 71 71 71 71 71 71 71 71 71 71 71 71 71 71 71 71\n",
            " 71 71 71 71 71 71 71 71 71 71 71 71 71 71 71 71 71 71 71 71 71 71 71 71\n",
            " 71 71 71 71 71 71 71 71 71 71 71] \n",
            "\n",
            "\n",
            "\n",
            "Stringified recipe:\n",
            "\n",
            "💭   A   h o u s e   d i v i d e d   a g a i n s t   i t s e l f   c a n n o t   s t a n d . \n",
            " \n",
            " 👨 \n",
            " \n",
            " A b r a h a m   L i n c o l n ␣ ␣ ␣ ␣ ␣ ␣ ␣ ␣ ␣ ␣ ␣ ␣ ␣ ␣ ␣ ␣ ␣ ␣ ␣ ␣ ␣ ␣ ␣ ␣ ␣ ␣ ␣ ␣ ␣ ␣ ␣ ␣ ␣ ␣ ␣ ␣ ␣ ␣ ␣ ␣ ␣ ␣ ␣ ␣ ␣ ␣ ␣ ␣ ␣ ␣ ␣ ␣ ␣ ␣ ␣ ␣ ␣ ␣ ␣ ␣ ␣ ␣ ␣ ␣ ␣ ␣ ␣ ␣ ␣ ␣ ␣ ␣ ␣ ␣ ␣ ␣ ␣ ␣ ␣ ␣ ␣ ␣ ␣ ␣ ␣ ␣ ␣ ␣ ␣ ␣ ␣ ␣ ␣ ␣ ␣ ␣ ␣ ␣ ␣ ␣ ␣ ␣ ␣ ␣ ␣ ␣ ␣ ␣ ␣ ␣ ␣ ␣ ␣ ␣ ␣ ␣ ␣ ␣ ␣ ␣ ␣ ␣ ␣ ␣ ␣ ␣ ␣ ␣ ␣ ␣ ␣ ␣ ␣ ␣ ␣ ␣ ␣ ␣ ␣ ␣ ␣ ␣ ␣ ␣ ␣ ␣ ␣ ␣ ␣ ␣ ␣ ␣ ␣ ␣ ␣ ␣ ␣ ␣ ␣ ␣ ␣ ␣ ␣ ␣ ␣ ␣ ␣ ␣ ␣ ␣ ␣ ␣ ␣ ␣ ␣ ␣ ␣ ␣ ␣ ␣ ␣ ␣ ␣ ␣ ␣\n"
          ]
        }
      ]
    },
    {
      "cell_type": "markdown",
      "source": [
        "## Split examples on input and target texts"
      ],
      "metadata": {
        "id": "VRL-otgr-L8i"
      }
    },
    {
      "cell_type": "code",
      "source": [
        "def split_input_target(quote):\n",
        "    input_text = quote[:-1]\n",
        "    target_text = quote[1:]\n",
        "    \n",
        "    return input_text, target_text\n",
        "dataset_targeted = dataset.map(split_input_target)\n",
        "print(dataset_targeted)"
      ],
      "metadata": {
        "colab": {
          "base_uri": "https://localhost:8080/"
        },
        "id": "_rsSGMOf-NXx",
        "outputId": "160ea970-dce7-4373-a94c-b4511c3c6a6d"
      },
      "execution_count": 31,
      "outputs": [
        {
          "output_type": "stream",
          "name": "stdout",
          "text": [
            "<MapDataset element_spec=(TensorSpec(shape=(250,), dtype=tf.int32, name=None), TensorSpec(shape=(250,), dtype=tf.int32, name=None))>\n"
          ]
        }
      ]
    },
    {
      "cell_type": "code",
      "source": [
        "for input_example, target_example in dataset_targeted.take(1):\n",
        "    print('Input sequence size:', repr(len(input_example.numpy())))\n",
        "    print('Target sequence size:', repr(len(target_example.numpy())))\n",
        "    print()\n",
        "    \n",
        "    input_stringified = tokenizer.sequences_to_texts([input_example.numpy()[:50]])[0]\n",
        "    target_stringified = tokenizer.sequences_to_texts([target_example.numpy()[:50]])[0]\n",
        "    \n",
        "    print('Input:  ', repr(''.join(input_stringified)))\n",
        "    print('Target: ', repr(''.join(target_stringified)))\n"
      ],
      "metadata": {
        "colab": {
          "base_uri": "https://localhost:8080/"
        },
        "id": "HqsUjqB2-NnW",
        "outputId": "3a0b8495-2545-479b-8572-156852d74d2f"
      },
      "execution_count": 32,
      "outputs": [
        {
          "output_type": "stream",
          "name": "stdout",
          "text": [
            "Input sequence size: 250\n",
            "Target sequence size: 250\n",
            "\n",
            "Input:   '💭   A   h o u s e   d i v i d e d   a g a i n s t   i t s e l f   c a n n o t   s t a n d . \\n \\n 👨 \\n'\n",
            "Target:  '  A   h o u s e   d i v i d e d   a g a i n s t   i t s e l f   c a n n o t   s t a n d . \\n \\n 👨 \\n \\n'\n"
          ]
        }
      ]
    },
    {
      "cell_type": "code",
      "source": [
        "for i, (input_idx, target_idx) in enumerate(zip(input_example[:10], target_example[:10])):\n",
        "    print('Step {:2d}'.format(i + 1))\n",
        "    print('  input: {} ({:s})'.format(input_idx, repr(tokenizer.sequences_to_texts([[input_idx.numpy()]])[0])))\n",
        "    print('  expected output: {} ({:s})'.format(target_idx, repr(tokenizer.sequences_to_texts([[target_idx.numpy()]])[0])))"
      ],
      "metadata": {
        "colab": {
          "base_uri": "https://localhost:8080/"
        },
        "id": "xTokStqF-bDc",
        "outputId": "242f017e-2c73-4024-fda2-8008db2233ab"
      },
      "execution_count": 33,
      "outputs": [
        {
          "output_type": "stream",
          "name": "stdout",
          "text": [
            "Step  1\n",
            "  input: 24 ('💭')\n",
            "  expected output: 1 (' ')\n",
            "Step  2\n",
            "  input: 1 (' ')\n",
            "  expected output: 33 ('A')\n",
            "Step  3\n",
            "  input: 33 ('A')\n",
            "  expected output: 1 (' ')\n",
            "Step  4\n",
            "  input: 1 (' ')\n",
            "  expected output: 11 ('h')\n",
            "Step  5\n",
            "  input: 11 ('h')\n",
            "  expected output: 3 ('o')\n",
            "Step  6\n",
            "  input: 3 ('o')\n",
            "  expected output: 13 ('u')\n",
            "Step  7\n",
            "  input: 13 ('u')\n",
            "  expected output: 8 ('s')\n",
            "Step  8\n",
            "  input: 8 ('s')\n",
            "  expected output: 2 ('e')\n",
            "Step  9\n",
            "  input: 2 ('e')\n",
            "  expected output: 1 (' ')\n",
            "Step 10\n",
            "  input: 1 (' ')\n",
            "  expected output: 14 ('d')\n"
          ]
        }
      ]
    },
    {
      "cell_type": "code",
      "source": [
        "print(dataset_targeted)"
      ],
      "metadata": {
        "colab": {
          "base_uri": "https://localhost:8080/"
        },
        "id": "pfu8cRCt-chu",
        "outputId": "6a5234c2-fb55-4783-be2b-b4f103a8d7bc"
      },
      "execution_count": 34,
      "outputs": [
        {
          "output_type": "stream",
          "name": "stdout",
          "text": [
            "<MapDataset element_spec=(TensorSpec(shape=(250,), dtype=tf.int32, name=None), TensorSpec(shape=(250,), dtype=tf.int32, name=None))>\n"
          ]
        }
      ]
    },
    {
      "cell_type": "code",
      "source": [
        "print('TOTAL_QUOTES_NUM: ', TOTAL_QUOTES_NUM)\n",
        "print('MAX_QUOTE_LENGTH: ', MAX_QUOTE_LENGTH)\n",
        "print('VOCABULARY_SIZE: ', VOCABULARY_SIZE)"
      ],
      "metadata": {
        "colab": {
          "base_uri": "https://localhost:8080/"
        },
        "id": "5u--VQ3h-hbc",
        "outputId": "8739ed96-d327-448f-f94e-9a286e81d1cf"
      },
      "execution_count": 35,
      "outputs": [
        {
          "output_type": "stream",
          "name": "stdout",
          "text": [
            "TOTAL_QUOTES_NUM:  1620\n",
            "MAX_QUOTE_LENGTH:  250\n",
            "VOCABULARY_SIZE:  75\n"
          ]
        }
      ]
    },
    {
      "cell_type": "code",
      "source": [
        "# Batch size.\n",
        "BATCH_SIZE = 64\n",
        "# Buffer size to shuffle the dataset (TF data is designed to work\n",
        "# with possibly infinite sequences, so it doesn't attempt to shuffle\n",
        "# the entire sequence in memory. Instead, it maintains a buffer in\n",
        "# which it shuffles elements).\n",
        "SHUFFLE_BUFFER_SIZE = 1000\n",
        "dataset_train = dataset_targeted.shuffle(SHUFFLE_BUFFER_SIZE).batch(BATCH_SIZE, drop_remainder=True).repeat()\n",
        "  # Shuffling examples first.\n",
        "  # Splitting examples on batches.\n",
        "  # Making a dataset to be repeatable (it will never ends). \n",
        "\n",
        "print(dataset_train)"
      ],
      "metadata": {
        "colab": {
          "base_uri": "https://localhost:8080/"
        },
        "id": "kRxEFdL3-qWX",
        "outputId": "e2065ab2-e252-445a-be57-d3c55fb22bac"
      },
      "execution_count": 36,
      "outputs": [
        {
          "output_type": "stream",
          "name": "stdout",
          "text": [
            "<RepeatDataset element_spec=(TensorSpec(shape=(64, 250), dtype=tf.int32, name=None), TensorSpec(shape=(64, 250), dtype=tf.int32, name=None))>\n"
          ]
        }
      ]
    },
    {
      "cell_type": "code",
      "source": [
        "for input_text, target_text in dataset_train.take(1):\n",
        "    print('1st batch: input_text:', input_text)\n",
        "    print()\n",
        "    print('1st batch: target_text:', target_text)"
      ],
      "metadata": {
        "colab": {
          "base_uri": "https://localhost:8080/"
        },
        "id": "VRfO9JdA-_Bj",
        "outputId": "44922dbd-b32b-4992-fa3a-060b9c0f4431"
      },
      "execution_count": 37,
      "outputs": [
        {
          "output_type": "stream",
          "name": "stdout",
          "text": [
            "1st batch: input_text: tf.Tensor(\n",
            "[[24  1 34 ... 71 71 71]\n",
            " [24  1 32 ... 71 71 71]\n",
            " [24  1 49 ... 71 71 71]\n",
            " ...\n",
            " [24  1 29 ... 71 71 71]\n",
            " [24  1 33 ... 71 71 71]\n",
            " [24  1 47 ... 71 71 71]], shape=(64, 250), dtype=int32)\n",
            "\n",
            "1st batch: target_text: tf.Tensor(\n",
            "[[ 1 34  7 ... 71 71 71]\n",
            " [ 1 32  2 ... 71 71 71]\n",
            " [ 1 49  2 ... 71 71 71]\n",
            " ...\n",
            " [ 1 29 11 ... 71 71 71]\n",
            " [ 1 33  1 ... 71 71 71]\n",
            " [ 1 47  2 ... 71 71 71]], shape=(64, 250), dtype=int32)\n"
          ]
        }
      ]
    },
    {
      "cell_type": "markdown",
      "source": [
        "## Build the model"
      ],
      "metadata": {
        "id": "cGRWvrfl_GNG"
      }
    },
    {
      "cell_type": "code",
      "source": [
        "tmp_vocab_size = 10\n",
        "tmp_embedding_size = 5\n",
        "tmp_input_length = 8\n",
        "tmp_batch_size = 2\n",
        "tmp_model = tf.keras.models.Sequential()\n",
        "tmp_model.add(tf.keras.layers.Embedding(\n",
        "  input_dim=tmp_vocab_size,\n",
        "  output_dim=tmp_embedding_size,\n",
        "  input_length=tmp_input_length\n",
        "))\n",
        "# The model will take as input an integer matrix of size (batch, input_length).\n",
        "# The largest integer (i.e. word index) in the input should be no larger than 9 (tmp_vocab_size).\n",
        "# Now model.output_shape == (None, 10, 64), where None is the batch dimension.\n",
        "tmp_input_array = np.random.randint(\n",
        "  low=0,\n",
        "  high=tmp_vocab_size,\n",
        "  size=(tmp_batch_size, tmp_input_length)\n",
        ")\n",
        "tmp_model.compile('rmsprop', 'mse')\n",
        "tmp_output_array = tmp_model.predict(tmp_input_array)\n",
        "print('tmp_input_array shape:', tmp_input_array.shape)\n",
        "print('tmp_input_array:')\n",
        "print(tmp_input_array)\n",
        "print()\n",
        "print('tmp_output_array shape:', tmp_output_array.shape)\n",
        "print('tmp_output_array:')\n",
        "print(tmp_output_array)"
      ],
      "metadata": {
        "colab": {
          "base_uri": "https://localhost:8080/"
        },
        "id": "pKt1Wx4__FN7",
        "outputId": "e36e0fc9-8697-4bd9-aff3-dd904110950b"
      },
      "execution_count": 38,
      "outputs": [
        {
          "output_type": "stream",
          "name": "stdout",
          "text": [
            "tmp_input_array shape: (2, 8)\n",
            "tmp_input_array:\n",
            "[[8 1 4 9 6 5 1 8]\n",
            " [8 6 2 2 1 1 3 7]]\n",
            "\n",
            "tmp_output_array shape: (2, 8, 5)\n",
            "tmp_output_array:\n",
            "[[[ 0.02609203 -0.02245727 -0.01297919  0.02449424  0.00370511]\n",
            "  [-0.03016865 -0.03976301  0.02947002  0.04332835 -0.02120524]\n",
            "  [ 0.02170826  0.02719119 -0.02625141  0.03596428  0.04536157]\n",
            "  [-0.02967047  0.01724008 -0.0105393  -0.04624162 -0.04447546]\n",
            "  [ 0.03648655 -0.03294297 -0.00662162  0.00723673  0.03492509]\n",
            "  [ 0.0301838   0.02577679  0.01921814  0.01624999 -0.03399091]\n",
            "  [-0.03016865 -0.03976301  0.02947002  0.04332835 -0.02120524]\n",
            "  [ 0.02609203 -0.02245727 -0.01297919  0.02449424  0.00370511]]\n",
            "\n",
            " [[ 0.02609203 -0.02245727 -0.01297919  0.02449424  0.00370511]\n",
            "  [ 0.03648655 -0.03294297 -0.00662162  0.00723673  0.03492509]\n",
            "  [ 0.03673912 -0.00766529 -0.00791442 -0.02688416  0.01532226]\n",
            "  [ 0.03673912 -0.00766529 -0.00791442 -0.02688416  0.01532226]\n",
            "  [-0.03016865 -0.03976301  0.02947002  0.04332835 -0.02120524]\n",
            "  [-0.03016865 -0.03976301  0.02947002  0.04332835 -0.02120524]\n",
            "  [-0.02684797  0.03486851  0.01126019  0.01445056  0.04556651]\n",
            "  [ 0.0496383   0.02215362 -0.00624595  0.0148367   0.0263668 ]]]\n"
          ]
        }
      ]
    },
    {
      "cell_type": "code",
      "source": [
        "def build_model(vocab_size, embedding_dim, rnn_units, batch_size):\n",
        "    model = tf.keras.models.Sequential()\n",
        "    model.add(tf.keras.layers.Embedding(\n",
        "        input_dim=vocab_size,\n",
        "        output_dim=embedding_dim,\n",
        "        batch_input_shape=[batch_size, None]\n",
        "    ))\n",
        "    model.add(tf.keras.layers.LSTM(\n",
        "        units=rnn_units,\n",
        "        return_sequences=True,\n",
        "        stateful=True,\n",
        "        recurrent_initializer=tf.keras.initializers.GlorotNormal()\n",
        "    ))\n",
        "    model.add(tf.keras.layers.Dense(vocab_size))\n",
        "    \n",
        "    return model\n",
        "model = build_model(\n",
        "  vocab_size=VOCABULARY_SIZE,\n",
        "  embedding_dim=256,\n",
        "  rnn_units=1024,\n",
        "  batch_size=BATCH_SIZE\n",
        ")\n",
        "model.summary()"
      ],
      "metadata": {
        "colab": {
          "base_uri": "https://localhost:8080/"
        },
        "id": "uBmtsQbw_LFI",
        "outputId": "815d9353-9dbc-4ac7-ffb0-93c1ed1db12b"
      },
      "execution_count": 39,
      "outputs": [
        {
          "output_type": "stream",
          "name": "stdout",
          "text": [
            "Model: \"sequential_1\"\n",
            "_________________________________________________________________\n",
            " Layer (type)                Output Shape              Param #   \n",
            "=================================================================\n",
            " embedding_1 (Embedding)     (64, None, 256)           19200     \n",
            "                                                                 \n",
            " lstm (LSTM)                 (64, None, 1024)          5246976   \n",
            "                                                                 \n",
            " dense (Dense)               (64, None, 75)            76875     \n",
            "                                                                 \n",
            "=================================================================\n",
            "Total params: 5,343,051\n",
            "Trainable params: 5,343,051\n",
            "Non-trainable params: 0\n",
            "_________________________________________________________________\n"
          ]
        }
      ]
    },
    {
      "cell_type": "code",
      "source": [
        "tf.keras.utils.plot_model(\n",
        "    model,\n",
        "    show_shapes=True,\n",
        "    show_layer_names=True,\n",
        "    to_file='model.png'\n",
        ")"
      ],
      "metadata": {
        "colab": {
          "base_uri": "https://localhost:8080/",
          "height": 422
        },
        "id": "CxqDrWWO_N83",
        "outputId": "8cbf3630-9868-4ece-ae51-771196544b94"
      },
      "execution_count": 40,
      "outputs": [
        {
          "output_type": "execute_result",
          "data": {
            "text/plain": [
              "<IPython.core.display.Image object>"
            ],
            "image/png": "[encoded data removed]"
          },
          "metadata": {},
          "execution_count": 40
        }
      ]
    },
    {
      "cell_type": "markdown",
      "source": [
        "## Model before training"
      ],
      "metadata": {
        "id": "MsDaEdg__Tll"
      }
    },
    {
      "cell_type": "code",
      "source": [
        "for input_example_batch, target_example_batch in dataset_train.take(1):\n",
        "    example_batch_predictions = model(input_example_batch)\n",
        "    print(example_batch_predictions.shape, \"# (batch_size, sequence_length, vocab_size)\")"
      ],
      "metadata": {
        "colab": {
          "base_uri": "https://localhost:8080/"
        },
        "id": "FzuzCPIJ_TLQ",
        "outputId": "cd333fec-e9ea-4af4-d6d9-8517a6a645be"
      },
      "execution_count": 41,
      "outputs": [
        {
          "output_type": "stream",
          "name": "stdout",
          "text": [
            "(64, 250, 75) # (batch_size, sequence_length, vocab_size)\n"
          ]
        }
      ]
    },
    {
      "cell_type": "code",
      "source": [
        "print('Prediction for the 1st letter of the batch 1st sequense:')\n",
        "print(example_batch_predictions[0, 0])"
      ],
      "metadata": {
        "colab": {
          "base_uri": "https://localhost:8080/"
        },
        "id": "roNgl4AF_Z6y",
        "outputId": "bb3b6655-8c1e-42e1-8548-a242d1fb9007"
      },
      "execution_count": 42,
      "outputs": [
        {
          "output_type": "stream",
          "name": "stdout",
          "text": [
            "Prediction for the 1st letter of the batch 1st sequense:\n",
            "tf.Tensor(\n",
            "[-1.5543542e-03  5.0417087e-03  2.8174131e-03 -2.6548372e-03\n",
            " -2.0677381e-04 -4.1849678e-04 -3.0263176e-04 -1.9391066e-03\n",
            " -3.2386517e-03  7.7128094e-03  6.4729978e-03  1.3524808e-03\n",
            "  7.1225972e-03  2.4798224e-03 -3.4788577e-03  1.2206610e-03\n",
            " -5.6930128e-03  1.2243225e-03 -2.5324025e-03 -3.2333571e-03\n",
            " -3.3903043e-03  1.1360515e-03  3.7958045e-03  3.5631307e-04\n",
            " -6.2444680e-03  3.6041038e-03 -1.0697916e-03  1.4418061e-04\n",
            " -7.1635959e-04  5.5000661e-03 -3.6964221e-03  4.3248473e-04\n",
            " -1.5145499e-03 -1.4016428e-03 -1.8003533e-03  6.8406295e-04\n",
            "  6.7064837e-03  8.2522500e-05  5.9809227e-04  2.2001448e-05\n",
            " -2.9975220e-03 -4.6844021e-03 -1.7295807e-03  4.9491861e-04\n",
            " -7.2788354e-03  3.5364563e-03 -7.9365738e-04 -9.2136906e-06\n",
            "  3.0648196e-05  5.8706235e-03  1.5348875e-03  1.5760912e-03\n",
            " -1.9795264e-03  3.9054072e-03 -3.5469010e-03 -8.0880942e-05\n",
            " -2.7281777e-03  2.6312750e-03 -8.0344261e-04 -4.8747915e-03\n",
            "  2.7614222e-03 -3.7995214e-04  2.1476890e-03 -8.7951579e-05\n",
            "  1.4939222e-03  1.7639132e-03  1.3621685e-03 -1.0106785e-03\n",
            "  2.7483176e-03  1.3678626e-03  4.4546439e-04 -1.0710203e-03\n",
            " -1.4896244e-03  3.9299345e-03 -8.2858354e-03], shape=(75,), dtype=float32)\n"
          ]
        }
      ]
    },
    {
      "cell_type": "code",
      "source": [
        "# logits is 2-D Tensor with shape [batch_size, num_classes].\n",
        "# Each slice [i, :] represents the unnormalized log-probabilities for all classes.\n",
        "# In the example below we say that the probability for class \"0\"\n",
        "# (element with index 0) is low but the probability for class \"2\" is much higher.\n",
        "tmp_logits = [\n",
        "  [-0.95, 0, 0.95],\n",
        "];\n",
        "# Let's generate 5 samples. Each sample is a class index. Class probabilities \n",
        "# are being taken into account (we expect to see more samples of class \"2\").\n",
        "tmp_samples = tf.random.categorical(\n",
        "    logits=tmp_logits,\n",
        "    num_samples=5\n",
        ")\n",
        "print(tmp_samples)"
      ],
      "metadata": {
        "colab": {
          "base_uri": "https://localhost:8080/"
        },
        "id": "Z0AGY35Z_cps",
        "outputId": "cb7f2005-fed8-4059-c926-591dbed0490f"
      },
      "execution_count": 43,
      "outputs": [
        {
          "output_type": "stream",
          "name": "stdout",
          "text": [
            "tf.Tensor([[2 2 1 2 1]], shape=(1, 5), dtype=int64)\n"
          ]
        }
      ]
    },
    {
      "cell_type": "code",
      "source": [
        "sampled_indices = tf.random.categorical(\n",
        "    logits=example_batch_predictions[0],\n",
        "    num_samples=1\n",
        ")\n",
        "sampled_indices = tf.squeeze(\n",
        "    input=sampled_indices,\n",
        "    axis=-1\n",
        ").numpy()\n",
        "sampled_indices.shape"
      ],
      "metadata": {
        "colab": {
          "base_uri": "https://localhost:8080/"
        },
        "id": "jBD2Se1H_ep9",
        "outputId": "c9acb56e-f496-4a71-ae35-ae78e7b21099"
      },
      "execution_count": 44,
      "outputs": [
        {
          "output_type": "execute_result",
          "data": {
            "text/plain": [
              "(250,)"
            ]
          },
          "metadata": {},
          "execution_count": 44
        }
      ]
    },
    {
      "cell_type": "code",
      "source": [
        "sampled_indices[:100]"
      ],
      "metadata": {
        "colab": {
          "base_uri": "https://localhost:8080/"
        },
        "id": "3JJcl7sr_gt-",
        "outputId": "fc9a91fb-db5b-4efb-e973-a4dadae132c1"
      },
      "execution_count": 45,
      "outputs": [
        {
          "output_type": "execute_result",
          "data": {
            "text/plain": [
              "array([14, 49, 18, 58, 21, 46, 27, 63,  0, 63, 50, 53, 66, 31,  9, 29, 35,\n",
              "       12, 53, 21, 72, 66, 70, 46, 66, 66, 27, 18, 29, 20, 27, 50, 13, 42,\n",
              "        3,  2, 52, 24, 49, 73, 28, 56, 52, 25, 64, 10,  9, 48, 15, 74, 57,\n",
              "       44, 61,  8, 49, 38, 33, 40, 56, 70, 37,  3, 23, 43, 42,  1, 10, 58,\n",
              "       27, 31, 25, 10, 64, 10, 62, 41, 51, 25,  0, 55, 15, 14, 51, 66,  3,\n",
              "       17,  4, 38, 51,  1,  1, 64, 67, 66,  4, 74, 52,  7, 70,  8])"
            ]
          },
          "metadata": {},
          "execution_count": 45
        }
      ]
    },
    {
      "cell_type": "code",
      "source": [
        "print('Input:\\n', repr(''.join(tokenizer.sequences_to_texts([input_example_batch[0].numpy()[:50]]))))\n",
        "print()\n",
        "print('Next char prediction:\\n', repr(''.join(tokenizer.sequences_to_texts([sampled_indices[:50]]))))"
      ],
      "metadata": {
        "colab": {
          "base_uri": "https://localhost:8080/"
        },
        "id": "KfzeSx6i_itx",
        "outputId": "15d8db31-abff-4567-bf62-f20d767462bd"
      },
      "execution_count": 46,
      "outputs": [
        {
          "output_type": "stream",
          "name": "stdout",
          "text": [
            "Input:\n",
            " '💭   A n   o u n c e   o f   e m o t i o n   i s   e q u a l   t o   a   t o n   o f   f a c t s . \\n'\n",
            "\n",
            "Next char prediction:\n",
            " 'd Y w : . N , 0 0 F O é W r T S l O . 9 é — N é é , w T g , F u H o e j 💭 Y ö k - j 👨 ’ \\n r z y X'\n"
          ]
        }
      ]
    },
    {
      "cell_type": "markdown",
      "source": [
        "## Train the model"
      ],
      "metadata": {
        "id": "9Lc8sPTL_mok"
      }
    },
    {
      "cell_type": "code",
      "source": [
        "# An objective function.\n",
        "# The function is any callable with the signature scalar_loss = fn(y_true, y_pred).\n",
        "def loss(labels, logits):\n",
        "    entropy = tf.keras.losses.sparse_categorical_crossentropy(\n",
        "      y_true=labels,\n",
        "      y_pred=logits,\n",
        "      from_logits=True\n",
        "    )\n",
        "    \n",
        "    return entropy\n",
        "example_batch_loss = loss(target_example_batch, example_batch_predictions)\n",
        "print(\"Prediction shape: \", example_batch_predictions.shape, \" # (batch_size, sequence_length, vocab_size)\")\n",
        "print(\"scalar_loss.shape:      \", example_batch_loss.shape)\n",
        "print(\"scalar_loss:      \", example_batch_loss.numpy().mean())"
      ],
      "metadata": {
        "colab": {
          "base_uri": "https://localhost:8080/"
        },
        "id": "tHpJuIrk_mLH",
        "outputId": "3284ca00-ada8-4179-fcd6-2fce63ed887f"
      },
      "execution_count": 47,
      "outputs": [
        {
          "output_type": "stream",
          "name": "stdout",
          "text": [
            "Prediction shape:  (64, 250, 75)  # (batch_size, sequence_length, vocab_size)\n",
            "scalar_loss.shape:       (64, 250)\n",
            "scalar_loss:       4.3185334\n"
          ]
        }
      ]
    },
    {
      "cell_type": "code",
      "source": [
        "adam_optimizer = tf.keras.optimizers.Adam(learning_rate=0.001)\n",
        "model.compile(\n",
        "    optimizer=adam_optimizer,\n",
        "    loss=loss\n",
        ")"
      ],
      "metadata": {
        "id": "lsL6Bony_qgp"
      },
      "execution_count": 48,
      "outputs": []
    },
    {
      "cell_type": "code",
      "source": [
        "early_stopping_callback = tf.keras.callbacks.EarlyStopping(\n",
        "    patience=5,\n",
        "    monitor='loss',\n",
        "    restore_best_weights=True,\n",
        "    verbose=1\n",
        ")"
      ],
      "metadata": {
        "id": "8fmIfWOq_t6j"
      },
      "execution_count": 49,
      "outputs": []
    },
    {
      "cell_type": "code",
      "source": [
        "# Create a checkpoints directory.\n",
        "checkpoint_dir = 'tmp/checkpoints'\n",
        "os.makedirs(checkpoint_dir, exist_ok=True)\n",
        "checkpoint_prefix = os.path.join(checkpoint_dir, 'ckpt_{epoch}')\n",
        "checkpoint_callback=tf.keras.callbacks.ModelCheckpoint(\n",
        "    filepath=checkpoint_prefix,\n",
        "    save_weights_only=True\n",
        ")"
      ],
      "metadata": {
        "id": "u931rO36_wHv"
      },
      "execution_count": 50,
      "outputs": []
    },
    {
      "cell_type": "code",
      "source": [
        "EPOCHS = 20\n",
        "INITIAL_EPOCH = 1\n",
        "STEPS_PER_EPOCH = 500\n",
        "print('EPOCHS:          ', EPOCHS)\n",
        "print('INITIAL_EPOCH:   ', INITIAL_EPOCH)\n",
        "print('STEPS_PER_EPOCH: ', STEPS_PER_EPOCH)"
      ],
      "metadata": {
        "colab": {
          "base_uri": "https://localhost:8080/"
        },
        "id": "RH-2OZ8c_x3M",
        "outputId": "9ee7ab0f-dc7e-472e-ccde-290442f04cc1"
      },
      "execution_count": 53,
      "outputs": [
        {
          "output_type": "stream",
          "name": "stdout",
          "text": [
            "EPOCHS:           20\n",
            "INITIAL_EPOCH:    1\n",
            "STEPS_PER_EPOCH:  500\n"
          ]
        }
      ]
    },
    {
      "cell_type": "code",
      "source": [
        "history = model.fit(\n",
        "    x=dataset_train,\n",
        "    epochs=EPOCHS,\n",
        "    steps_per_epoch=STEPS_PER_EPOCH,\n",
        "    callbacks=[\n",
        "        checkpoint_callback,\n",
        "        early_stopping_callback\n",
        "    ]\n",
        ")\n",
        "# Saving the trained model to file (to be able to re-use it later).\n",
        "model_name = 'quote_generation_rnn_raw.h5'\n",
        "model.save(model_name, save_format='h5')"
      ],
      "metadata": {
        "colab": {
          "base_uri": "https://localhost:8080/"
        },
        "id": "T3WtAIcO_xw3",
        "outputId": "d0cf150d-aecc-4f09-de5f-e607016f1bb4"
      },
      "execution_count": null,
      "outputs": [
        {
          "output_type": "stream",
          "name": "stdout",
          "text": [
            "Epoch 1/20\n",
            " 23/500 [>.............................] - ETA: 2:34:16 - loss: 1.3263"
          ]
        }
      ]
    },
    {
      "cell_type": "markdown",
      "source": [
        "## Visualize Training process"
      ],
      "metadata": {
        "id": "cK-bzBxi_4xv"
      }
    },
    {
      "cell_type": "code",
      "source": [
        "def render_training_history(training_history):\n",
        "    loss = training_history.history['loss']\n",
        "    plt.title('Loss')\n",
        "    plt.xlabel('Epoch')\n",
        "    plt.ylabel('Loss')\n",
        "    plt.plot(loss, label='Training set')\n",
        "    plt.legend()\n",
        "    plt.grid(linestyle='--', linewidth=1, alpha=0.5)\n",
        "    plt.show()\n",
        "render_training_history(history)"
      ],
      "metadata": {
        "id": "xbJHJQQu_2CX"
      },
      "execution_count": null,
      "outputs": []
    },
    {
      "cell_type": "code",
      "source": [
        "tf.train.latest_checkpoint(checkpoint_dir)"
      ],
      "metadata": {
        "id": "fGOpsU8u_14w"
      },
      "execution_count": null,
      "outputs": []
    },
    {
      "cell_type": "code",
      "source": [
        "simplified_batch_size = 1\n",
        "model_simplified = model = build_model(\n",
        "  vocab_size=VOCABULARY_SIZE,\n",
        "  embedding_dim=256,\n",
        "  rnn_units=1024,\n",
        "  batch_size=simplified_batch_size\n",
        ")\n",
        "model_simplified.load_weights(tf.train.latest_checkpoint(checkpoint_dir))\n",
        "model_simplified.build(tf.TensorShape([simplified_batch_size, None]))\n",
        "model_simplified.summary()"
      ],
      "metadata": {
        "id": "CpscsTBKARVr"
      },
      "execution_count": null,
      "outputs": []
    },
    {
      "cell_type": "code",
      "source": [
        "model_simplified.input_shape"
      ],
      "metadata": {
        "id": "qEI_gSNTASJK"
      },
      "execution_count": null,
      "outputs": []
    },
    {
      "cell_type": "markdown",
      "source": [
        "## Generate Text"
      ],
      "metadata": {
        "id": "eP1c0n0tAYw3"
      }
    },
    {
      "cell_type": "code",
      "source": [
        "def generate_text(model, start_string, num_generate = 1000, temperature=1.0):\n",
        "    # Evaluation step (generating text using the learned model)\n",
        "    \n",
        "    padded_start_string = STOP_WORD_QUOTE + start_string\n",
        "    # Converting our start string to numbers (vectorizing).\n",
        "    input_indices = np.array(tokenizer.texts_to_sequences([padded_start_string]))\n",
        "    # Empty string to store our results.\n",
        "    text_generated = []\n",
        "    # Here batch size == 1.\n",
        "    model.reset_states()\n",
        "    for char_index in range(num_generate):\n",
        "        predictions = model(input_indices)\n",
        "        # remove the batch dimension\n",
        "        predictions = tf.squeeze(predictions, 0)\n",
        "        # Using a categorical distribution to predict the character returned by the model.\n",
        "        predictions = predictions / temperature\n",
        "        predicted_id = tf.random.categorical(\n",
        "            predictions,\n",
        "            num_samples=1\n",
        "        )[-1, 0].numpy()\n",
        "        # We pass the predicted character as the next input to the model\n",
        "        # along with the previous hidden state.\n",
        "        input_indices = tf.expand_dims([predicted_id], 0)\n",
        "        \n",
        "        next_character = tokenizer.sequences_to_texts(input_indices.numpy())[0]\n",
        "        text_generated.append(next_character)\n",
        "    return (padded_start_string + ''.join(text_generated))"
      ],
      "metadata": {
        "id": "8n1lmNi_AT3t"
      },
      "execution_count": null,
      "outputs": []
    },
    {
      "cell_type": "code",
      "source": [
        "def generate_combinations(model):\n",
        "    quote_length = 1000\n",
        "    try_letters = ['', '\\n', 'A', 'B', 'C', 'O', 'L', 'Mushroom', 'Apple', 'Slow', 'Christmass', 'The', 'Banana', 'Homemade']\n",
        "    try_temperature = [1.0, 0.8, 0.4, 0.2]\n",
        "    for letter in try_letters:\n",
        "        for temperature in try_temperature:\n",
        "            generated_text = generate_text(\n",
        "                model,\n",
        "                start_string=letter,\n",
        "                num_generate = quote_length,\n",
        "                temperature=temperature\n",
        "            )\n",
        "            print(f'Attempt: \"{letter}\" + {temperature}')\n",
        "            print('-----------------------------------')\n",
        "            print(generated_text)\n",
        "            print('\\n\\n')"
      ],
      "metadata": {
        "id": "i6Nsq0HJAXy7"
      },
      "execution_count": null,
      "outputs": []
    }
  ]
}
